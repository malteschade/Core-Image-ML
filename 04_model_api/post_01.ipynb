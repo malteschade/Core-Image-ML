{
 "cells": [
  {
   "cell_type": "code",
   "execution_count": 1,
   "metadata": {},
   "outputs": [],
   "source": [
    "#!/usr/bin/env python3\n",
    "# -*- coding: utf-8 -*-\n",
    "\n",
    "\"\"\"\n",
    "{Core Image ML RestAPI Post - Notebook 1\n",
    "Post request notebook for interaction with the CNN RestAPI server.}\n",
    "\n",
    "{INTERNAL USE ONLY}\n",
    "\"\"\"\n",
    "\n",
    "__author__ = '{Malte Schade}'\n",
    "__copyright__ = 'Copyright {2022}, {Core Image ML RestAPI Post - Notebook 1}'\n",
    "__version__ = '{1}.{0}.{0}'\n",
    "__maintainer__ = '{Malte Schade}'\n",
    "__email__ = '{contact@malteschade.com}'\n",
    "__status__ = '{FINISHED}'\n",
    "\n",
    "# other modules\n",
    "import requests as re\n",
    "\n",
    "# constants\n",
    "FILE = 'test_img.jpg'\n",
    "IP = '10.10.21.171'\n",
    "PORT = '80'\n",
    "SUB = 'predict'\n"
   ]
  },
  {
   "cell_type": "code",
   "execution_count": 2,
   "metadata": {},
   "outputs": [
    {
     "data": {
      "text/plain": [
       "'{\"p1x\":182.0,\"p1y\":866.0,\"p2x\":2046.0,\"p2y\":860.0,\"p3x\":2058.0,\"p3y\":1583.0,\"p4x\":208.0,\"p4y\":1603.0}'"
      ]
     },
     "execution_count": 2,
     "metadata": {},
     "output_type": "execute_result"
    }
   ],
   "source": [
    "# read image as binary from file\n",
    "img = open(FILE, 'rb').read()\n",
    "\n",
    "# open requests session\n",
    "with re.Session() as s:\n",
    "    # post request with the loaded image and prediction mode/input resolution\n",
    "    test = s.post(f'http://{IP}:{PORT}/{SUB}',\n",
    "                  files={'file': img}, params=dict(mode=8))\n",
    "test.text\n"
   ]
  },
  {
   "cell_type": "code",
   "execution_count": null,
   "metadata": {},
   "outputs": [],
   "source": []
  }
 ],
 "metadata": {
  "kernelspec": {
   "display_name": "Python 3.8.13 ('deploy_project_001')",
   "language": "python",
   "name": "python3"
  },
  "language_info": {
   "codemirror_mode": {
    "name": "ipython",
    "version": 3
   },
   "file_extension": ".py",
   "mimetype": "text/x-python",
   "name": "python",
   "nbconvert_exporter": "python",
   "pygments_lexer": "ipython3",
   "version": "3.8.13"
  },
  "orig_nbformat": 4,
  "vscode": {
   "interpreter": {
    "hash": "089621f38407f9df9af0dc8a71ce94b64e17989dbef038b48f89f79b2b3f5a8b"
   }
  }
 },
 "nbformat": 4,
 "nbformat_minor": 2
}
